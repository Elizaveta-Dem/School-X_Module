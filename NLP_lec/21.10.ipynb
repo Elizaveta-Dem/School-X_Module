{
 "cells": [
  {
   "cell_type": "code",
   "execution_count": 4,
   "metadata": {},
   "outputs": [
    {
     "name": "stderr",
     "output_type": "stream",
     "text": [
      "[nltk_data] Downloading package punkt to\n",
      "[nltk_data]     C:\\Users\\Елизавета\\AppData\\Roaming\\nltk_data...\n",
      "[nltk_data]   Package punkt is already up-to-date!\n",
      "[nltk_data] Downloading package averaged_perceptron_tagger to\n",
      "[nltk_data]     C:\\Users\\Елизавета\\AppData\\Roaming\\nltk_data...\n",
      "[nltk_data]   Unzipping taggers\\averaged_perceptron_tagger.zip.\n",
      "[nltk_data] Downloading package wordnet to\n",
      "[nltk_data]     C:\\Users\\Елизавета\\AppData\\Roaming\\nltk_data...\n"
     ]
    },
    {
     "data": {
      "text/plain": [
       "True"
      ]
     },
     "execution_count": 4,
     "metadata": {},
     "output_type": "execute_result"
    }
   ],
   "source": [
    "import nltk\n",
    "nltk.download('punkt')\n",
    "nltk.download('averaged_perceptron_tagger')\n",
    "nltk.download('wordnet')"
   ]
  },
  {
   "cell_type": "code",
   "execution_count": 6,
   "metadata": {},
   "outputs": [],
   "source": [
    "text_1='There is floating a trick from the town of Byron'"
   ]
  },
  {
   "cell_type": "code",
   "execution_count": 5,
   "metadata": {},
   "outputs": [
    {
     "data": {
      "text/plain": [
       "[('There', 'EX'),\n",
       " ('is', 'VBZ'),\n",
       " ('floating', 'VBG'),\n",
       " ('a', 'DT'),\n",
       " ('trick', 'NN'),\n",
       " ('from', 'IN'),\n",
       " ('the', 'DT'),\n",
       " ('town', 'NN'),\n",
       " ('of', 'IN'),\n",
       " ('Byron', 'NNP')]"
      ]
     },
     "execution_count": 5,
     "metadata": {},
     "output_type": "execute_result"
    }
   ],
   "source": [
    "tokenized = nltk.word_tokenize(text_1)\n",
    "tokenized\n",
    "tagged = nltk.pos_tag(tokenized)\n",
    "tagged"
   ]
  },
  {
   "cell_type": "code",
   "execution_count": 1,
   "metadata": {},
   "outputs": [
    {
     "ename": "NameError",
     "evalue": "name 'nltk' is not defined",
     "output_type": "error",
     "traceback": [
      "\u001b[1;31m---------------------------------------------------------------------------\u001b[0m",
      "\u001b[1;31mNameError\u001b[0m                                 Traceback (most recent call last)",
      "\u001b[1;32mc:\\Users\\Elizaveta Demyanova\\Documents\\python_code\\School-X_Module\\NLP_lec\\21.10.ipynb Cell 4\u001b[0m line \u001b[0;36m2\n\u001b[0;32m      <a href='vscode-notebook-cell:/c%3A/Users/Elizaveta%20Demyanova/Documents/python_code/School-X_Module/NLP_lec/21.10.ipynb#W4sZmlsZQ%3D%3D?line=0'>1</a>\u001b[0m sentence \u001b[39m=\u001b[39m \u001b[39m\"\u001b[39m\u001b[39mThere is floating a brick from the town of Byron\u001b[39m\u001b[39m\"\u001b[39m\n\u001b[1;32m----> <a href='vscode-notebook-cell:/c%3A/Users/Elizaveta%20Demyanova/Documents/python_code/School-X_Module/NLP_lec/21.10.ipynb#W4sZmlsZQ%3D%3D?line=1'>2</a>\u001b[0m tokenized \u001b[39m=\u001b[39m nltk\u001b[39m.\u001b[39mtokenize\u001b[39m.\u001b[39mNLTKWordTokenizer()\u001b[39m.\u001b[39mtokenize(sentence)\n\u001b[0;32m      <a href='vscode-notebook-cell:/c%3A/Users/Elizaveta%20Demyanova/Documents/python_code/School-X_Module/NLP_lec/21.10.ipynb#W4sZmlsZQ%3D%3D?line=2'>3</a>\u001b[0m tagged \u001b[39m=\u001b[39m nltk\u001b[39m.\u001b[39mpos_tag(tokenized)\n\u001b[0;32m      <a href='vscode-notebook-cell:/c%3A/Users/Elizaveta%20Demyanova/Documents/python_code/School-X_Module/NLP_lec/21.10.ipynb#W4sZmlsZQ%3D%3D?line=3'>4</a>\u001b[0m grammar \u001b[39m=\u001b[39m \u001b[39m\"\u001b[39m\u001b[39mNP:\u001b[39m\u001b[39m{\u001b[39m\u001b[39m<DT>?<JJ>*<NN>}\u001b[39m\u001b[39m\"\u001b[39m\n",
      "\u001b[1;31mNameError\u001b[0m: name 'nltk' is not defined"
     ]
    }
   ],
   "source": [
    "sentence = \"There is floating a brick from the town of Byron\"\n",
    "tokenized = nltk.tokenize.NLTKWordTokenizer().tokenize(sentence)\n",
    "tagged = nltk.pos_tag(tokenized)\n",
    "grammar = \"NP:{<DT>?<JJ>*<NN>}\"\n",
    "reg_parser = nltk.RegexpParser(grammar)\n",
    "res = reg_parser.parse(tagged)\n",
    "res.draw()"
   ]
  }
 ],
 "metadata": {
  "kernelspec": {
   "display_name": "Python 3",
   "language": "python",
   "name": "python3"
  },
  "language_info": {
   "codemirror_mode": {
    "name": "ipython",
    "version": 3
   },
   "file_extension": ".py",
   "mimetype": "text/x-python",
   "name": "python",
   "nbconvert_exporter": "python",
   "pygments_lexer": "ipython3",
   "version": "3.11.3"
  }
 },
 "nbformat": 4,
 "nbformat_minor": 2
}
