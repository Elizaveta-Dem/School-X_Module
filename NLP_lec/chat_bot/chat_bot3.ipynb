{
 "cells": [
  {
   "cell_type": "code",
   "execution_count": 3,
   "metadata": {},
   "outputs": [
    {
     "name": "stdout",
     "output_type": "stream",
     "text": [
      "Note: you may need to restart the kernel to use updated packages.\n"
     ]
    },
    {
     "name": "stderr",
     "output_type": "stream",
     "text": [
      "\n",
      "[notice] A new release of pip available: 22.3.1 -> 23.3.2\n",
      "[notice] To update, run: python.exe -m pip install --upgrade pip\n"
     ]
    }
   ],
   "source": [
    "%pip install -Uq transformers"
   ]
  },
  {
   "cell_type": "code",
   "execution_count": 4,
   "metadata": {},
   "outputs": [
    {
     "name": "stderr",
     "output_type": "stream",
     "text": [
      "c:\\Python311\\Lib\\site-packages\\tqdm\\auto.py:21: TqdmWarning: IProgress not found. Please update jupyter and ipywidgets. See https://ipywidgets.readthedocs.io/en/stable/user_install.html\n",
      "  from .autonotebook import tqdm as notebook_tqdm\n"
     ]
    },
    {
     "name": "stdout",
     "output_type": "stream",
     "text": [
      "WARNING:tensorflow:From c:\\Python311\\Lib\\site-packages\\keras\\src\\losses.py:2976: The name tf.losses.sparse_softmax_cross_entropy is deprecated. Please use tf.compat.v1.losses.sparse_softmax_cross_entropy instead.\n",
      "\n"
     ]
    }
   ],
   "source": [
    "from sklearn.feature_extraction.text import TfidfVectorizer\n",
    "from transformers import TFGPT2LMHeadModel, GPT2Tokenizer"
   ]
  },
  {
   "cell_type": "code",
   "execution_count": 5,
   "metadata": {},
   "outputs": [
    {
     "name": "stdout",
     "output_type": "stream",
     "text": [
      "WARNING:tensorflow:From c:\\Python311\\Lib\\site-packages\\keras\\src\\backend.py:873: The name tf.get_default_graph is deprecated. Please use tf.compat.v1.get_default_graph instead.\n",
      "\n"
     ]
    },
    {
     "name": "stderr",
     "output_type": "stream",
     "text": [
      "All PyTorch model weights were used when initializing TFGPT2LMHeadModel.\n",
      "\n",
      "All the weights of TFGPT2LMHeadModel were initialized from the PyTorch model.\n",
      "If your task is similar to the task the model of the checkpoint was trained on, you can already use TFGPT2LMHeadModel for predictions without further training.\n"
     ]
    }
   ],
   "source": [
    "tokenizer = GPT2Tokenizer.from_pretrained(\"gpt2\")\n",
    "model = TFGPT2LMHeadModel.from_pretrained(\"gpt2\")"
   ]
  },
  {
   "cell_type": "code",
   "execution_count": 7,
   "metadata": {},
   "outputs": [],
   "source": [
    "from sklearn.metrics.pairwise import cosine_similarity\n",
    "import numpy as np"
   ]
  },
  {
   "cell_type": "code",
   "execution_count": 8,
   "metadata": {},
   "outputs": [],
   "source": [
    "training_data = [\n",
    "    {\"question\": \"Привет, как тебя зовут?\",\n",
    "     \"answer\": \"Привет, я чат-бот, разработанный для ответов на вопросы.\"},\n",
    "    {\"question\": \"Как дела?\",\n",
    "     \"answer\": \"Всё хорошо, спасибо!\"},\n",
    "    {\"question\": \"О чём ты любишь говорить?\",\n",
    "     \"answer\":\"Обо всём!\"},\n",
    "    {\"question\": \"Скажи, что такое искусственный интеллект?\",\n",
    "     \"answer\": \"Искусственный интеллект (ИИ) — технология для создания интеллектуальных программ, которая имитирует человеческое поведение.\"},\n",
    "    {\"question\": \"Какие языки программирования поддерживаются чат-ботом?\",\n",
    "     \"answer\": \"Чат-бот создан на Python и может взаимодействовать с пользователем на различных языках.\"},  \n",
    "    {\"question\": \"Что нового в мире технологий?\",\n",
    "     \"answer\": \"Последние новости в мире технологий включают разработку искусственного интеллекта и электромобилей.\"},\n",
    "    {\"question\": \"Спасибо, чат-бот\",\n",
    "     \"answer\": \"Чем я могу еще помочь?\"},\n",
    "    {\"question\": \"Сколько месяцев в году?\",\n",
    "     \"answer\": \" В году двенадцать месяцев\"},\n",
    "    {\"question\": \"Как закрыть сессию?\",\n",
    "     \"answer\": \"Чтобы закрыть сессию нужно ее закрыть\"},\n",
    "\n",
    "]"
   ]
  },
  {
   "cell_type": "code",
   "execution_count": 9,
   "metadata": {},
   "outputs": [],
   "source": [
    "transformer_training_data = [\n",
    "    {\"question\": \"Привет, как тебя зовут?\",\n",
    "     \"answer\": \"Привет, я чат-бот, разработанный для ответов на вопросы.\"},\n",
    "    {\"question\": \"Как дела?\",\n",
    "     \"answer\": \"Всё хорошо, спасибо!\"},\n",
    "    {\"question\": \"О чём ты любишь говорить?\",\n",
    "     \"answer\":\"Обо всём!\"},\n",
    "    {\"question\": \"Скажи, что такое искусственный интеллект?\",\n",
    "     \"answer\": \"Искусственный интеллект (ИИ) — технология для создания интеллектуальных программ, которая имитирует человеческое поведение.\"},\n",
    "    {\"question\": \"Какие языки программирования поддерживаются чат-ботом?\",\n",
    "     \"answer\": \"Чат-бот создан на Python и может взаимодействовать с пользователем на различных языках.\"},  \n",
    "    {\"question\": \"Что нового в мире технологий?\",\n",
    "     \"answer\": \"Последние новости в мире технологий включают разработку искусственного интеллекта и электромобилей.\"},\n",
    "    {\"question\": \"Спасибо, чат-бот\",\n",
    "     \"answer\": \"Чем я могу еще помочь?\"},\n",
    "    {\"question\": \"Сколько месяцев в году?\",\n",
    "     \"answer\": \" В году двенадцать месяцев\"},\n",
    "    {\"question\": \"Как закрыть сессию?\",\n",
    "     \"answer\": \"Чтобы закрыть сессию нужно ее закрыть\"},\n",
    "\n",
    "]"
   ]
  },
  {
   "cell_type": "code",
   "execution_count": 10,
   "metadata": {},
   "outputs": [
    {
     "name": "stdout",
     "output_type": "stream",
     "text": [
      "[[0.         0.         0.         0.         0.         0.\n",
      "  0.53154671 0.         0.         0.39035151 0.         0.\n",
      "  0.         0.         0.         0.         0.53154671 0.\n",
      "  0.         0.         0.         0.         0.         0.53154671\n",
      "  0.         0.         0.         0.         0.         0.        ]\n",
      " [0.         0.         0.         0.         0.80600667 0.\n",
      "  0.         0.         0.         0.59190645 0.         0.\n",
      "  0.         0.         0.         0.         0.         0.\n",
      "  0.         0.         0.         0.         0.         0.\n",
      "  0.         0.         0.         0.         0.         0.        ]\n",
      " [0.         0.         0.5        0.         0.         0.\n",
      "  0.         0.         0.         0.         0.         0.5\n",
      "  0.         0.         0.         0.         0.         0.\n",
      "  0.         0.         0.         0.         0.         0.\n",
      "  0.         0.5        0.         0.         0.5        0.        ]\n",
      " [0.         0.         0.         0.         0.         0.\n",
      "  0.         0.46061063 0.46061063 0.         0.         0.\n",
      "  0.         0.         0.         0.         0.         0.\n",
      "  0.         0.46061063 0.         0.         0.46061063 0.\n",
      "  0.         0.         0.         0.38903907 0.         0.        ]\n",
      " [0.         0.41836331 0.         0.         0.         0.\n",
      "  0.         0.         0.         0.         0.41836331 0.\n",
      "  0.         0.         0.         0.41836331 0.         0.41836331\n",
      "  0.         0.         0.         0.         0.         0.\n",
      "  0.         0.         0.35335632 0.         0.         0.41836331]\n",
      " [0.         0.         0.         0.         0.         0.\n",
      "  0.         0.         0.         0.         0.         0.\n",
      "  0.         0.51893807 0.51893807 0.         0.         0.\n",
      "  0.         0.         0.         0.         0.         0.\n",
      "  0.51893807 0.         0.         0.43830336 0.         0.        ]\n",
      " [0.60707871 0.         0.         0.         0.         0.\n",
      "  0.         0.         0.         0.         0.         0.\n",
      "  0.         0.         0.         0.         0.         0.\n",
      "  0.         0.         0.         0.60707871 0.         0.\n",
      "  0.         0.         0.51274835 0.         0.         0.        ]\n",
      " [0.         0.         0.         0.57735027 0.         0.\n",
      "  0.         0.         0.         0.         0.         0.\n",
      "  0.57735027 0.         0.         0.         0.         0.\n",
      "  0.         0.         0.57735027 0.         0.         0.\n",
      "  0.         0.         0.         0.         0.         0.        ]\n",
      " [0.         0.         0.         0.         0.         0.62754252\n",
      "  0.         0.         0.         0.46084788 0.         0.\n",
      "  0.         0.         0.         0.         0.         0.\n",
      "  0.62754252 0.         0.         0.         0.         0.\n",
      "  0.         0.         0.         0.         0.         0.        ]]\n"
     ]
    }
   ],
   "source": [
    "vectorizer = TfidfVectorizer()\n",
    "corpus = [item['question'] for item in training_data]\n",
    "tfidf_matrix = vectorizer.fit_transform(corpus)\n",
    "print(tfidf_matrix.toarray())"
   ]
  },
  {
   "cell_type": "code",
   "execution_count": 11,
   "metadata": {},
   "outputs": [],
   "source": [
    "\n",
    "corpus = [item['question'] for item in transformer_training_data ]\n"
   ]
  },
  {
   "cell_type": "code",
   "execution_count": 26,
   "metadata": {},
   "outputs": [
    {
     "name": "stdout",
     "output_type": "stream",
     "text": [
      "Чат-бот: До свидания!\n"
     ]
    }
   ],
   "source": [
    "def tfidf_get_response(user_question):\n",
    "    user_tfidf = vectorizer.transform([user_question])\n",
    "    similarity_scores = cosine_similarity(user_tfidf, tfidf_matrix) \n",
    "    max_similarity_index = np.argmax(similarity_scores)\n",
    "    return training_data[max_similarity_index + 1]\n",
    "\n",
    "def transform_generate_response(user_question):\n",
    "    inputs = tokenizer.encode(user_question, return_tensors=\"pt\", max_length=1024, truncation=True)\n",
    "    outputs = model.generate(inputs, max_length=50, num_return_sequences=1, no_repeat_ngram_size=2)\n",
    "    response = tokenizer.decode(outputs[0], skip_special_tokens=True)\n",
    "    return response\n",
    "\n",
    "def hybrid_get_response(user_question):\n",
    "\n",
    "    tfidf_response = tfidf_get_response(user_question)\n",
    "    transform_response = transform_generate_response(user_question)\n",
    "\n",
    "    if len(tfidf_response) > len(transform_response):\n",
    "        return tfidf_response\n",
    "    else:\n",
    "        return transform_response\n",
    "\n",
    "while True:\n",
    "    user_question = input(\"Пользователь: \")\n",
    "    if user_question.lower() in ['exit']:\n",
    "        print(\"Чат-бот: До свидания!\")\n",
    "        break\n",
    "    response = hybrid_get_response(user_question)\n",
    "    print(\"Чат-бот:\", response)"
   ]
  }
 ],
 "metadata": {
  "kernelspec": {
   "display_name": "Python 3",
   "language": "python",
   "name": "python3"
  },
  "language_info": {
   "codemirror_mode": {
    "name": "ipython",
    "version": 3
   },
   "file_extension": ".py",
   "mimetype": "text/x-python",
   "name": "python",
   "nbconvert_exporter": "python",
   "pygments_lexer": "ipython3",
   "version": "3.11.3"
  }
 },
 "nbformat": 4,
 "nbformat_minor": 2
}
