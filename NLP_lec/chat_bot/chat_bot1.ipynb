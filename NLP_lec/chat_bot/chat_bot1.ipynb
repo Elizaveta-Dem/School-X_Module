{
 "cells": [
  {
   "cell_type": "code",
   "execution_count": 6,
   "metadata": {},
   "outputs": [],
   "source": [
    "from sklearn.feature_extraction.text import TfidfVectorizer\n",
    "from sklearn.metrics.pairwise import cosine_similarity\n",
    "import numpy as np"
   ]
  },
  {
   "cell_type": "code",
   "execution_count": 7,
   "metadata": {},
   "outputs": [],
   "source": [
    "training_data = [\n",
    "    {\"question\": \"Привет, как тебя зовут?\",\n",
    "     \"answer\": \"Привет, я чат-бот, разработанный для ответов на вопросы.\"},\n",
    "    {\"question\": \"Как дела?\",\n",
    "     \"answer\": \"Всё хорошо, спасибо!\"},\n",
    "    {\"question\": \"О чём ты любишь говорить?\",\n",
    "     \"answer\":\"Обо всём!\"},\n",
    "    {\"question\": \"Скажи, что такое искусственный интеллект?\",\n",
    "     \"answer\": \"Искусственный интеллект (ИИ) — технология для создания интеллектуальных программ, которая имитирует человеческое поведение.\"},\n",
    "    {\"question\": \"Какие языки программирования поддерживаются чат-ботом?\",\n",
    "     \"answer\": \"Чат-бот создан на Python и может взаимодействовать с пользователем на различных языках.\"},  \n",
    "    {\"question\": \"Что нового в мире технологий?\",\n",
    "     \"answer\": \"Последние новости в мире технологий включают разработку искусственного интеллекта и электромобилей.\"},\n",
    "    {\"question\": \"Спасибо, чат-бот\",\n",
    "     \"answer\": \"Чем я могу еще помочь?\"},\n",
    "    {\"question\": \"Сколько месяцев в году?\",\n",
    "     \"answer\": \" В году двенадцать месяцев\"},\n",
    "    {\"question\": \"Как закрыть сессию?\",\n",
    "     \"answer\": \"Чтобы закрыть сессию нужно ее закрыть\"},\n",
    "\n",
    "]"
   ]
  },
  {
   "cell_type": "code",
   "execution_count": 13,
   "metadata": {},
   "outputs": [
    {
     "name": "stdout",
     "output_type": "stream",
     "text": [
      "[[0.         0.         0.         0.         0.         0.\n",
      "  0.53154671 0.         0.         0.39035151 0.         0.\n",
      "  0.         0.         0.         0.         0.53154671 0.\n",
      "  0.         0.         0.         0.         0.         0.53154671\n",
      "  0.         0.         0.         0.         0.         0.        ]\n",
      " [0.         0.         0.         0.         0.80600667 0.\n",
      "  0.         0.         0.         0.59190645 0.         0.\n",
      "  0.         0.         0.         0.         0.         0.\n",
      "  0.         0.         0.         0.         0.         0.\n",
      "  0.         0.         0.         0.         0.         0.        ]\n",
      " [0.         0.         0.5        0.         0.         0.\n",
      "  0.         0.         0.         0.         0.         0.5\n",
      "  0.         0.         0.         0.         0.         0.\n",
      "  0.         0.         0.         0.         0.         0.\n",
      "  0.         0.5        0.         0.         0.5        0.        ]\n",
      " [0.         0.         0.         0.         0.         0.\n",
      "  0.         0.46061063 0.46061063 0.         0.         0.\n",
      "  0.         0.         0.         0.         0.         0.\n",
      "  0.         0.46061063 0.         0.         0.46061063 0.\n",
      "  0.         0.         0.         0.38903907 0.         0.        ]\n",
      " [0.         0.41836331 0.         0.         0.         0.\n",
      "  0.         0.         0.         0.         0.41836331 0.\n",
      "  0.         0.         0.         0.41836331 0.         0.41836331\n",
      "  0.         0.         0.         0.         0.         0.\n",
      "  0.         0.         0.35335632 0.         0.         0.41836331]\n",
      " [0.         0.         0.         0.         0.         0.\n",
      "  0.         0.         0.         0.         0.         0.\n",
      "  0.         0.51893807 0.51893807 0.         0.         0.\n",
      "  0.         0.         0.         0.         0.         0.\n",
      "  0.51893807 0.         0.         0.43830336 0.         0.        ]\n",
      " [0.60707871 0.         0.         0.         0.         0.\n",
      "  0.         0.         0.         0.         0.         0.\n",
      "  0.         0.         0.         0.         0.         0.\n",
      "  0.         0.         0.         0.60707871 0.         0.\n",
      "  0.         0.         0.51274835 0.         0.         0.        ]\n",
      " [0.         0.         0.         0.57735027 0.         0.\n",
      "  0.         0.         0.         0.         0.         0.\n",
      "  0.57735027 0.         0.         0.         0.         0.\n",
      "  0.         0.         0.57735027 0.         0.         0.\n",
      "  0.         0.         0.         0.         0.         0.        ]\n",
      " [0.         0.         0.         0.         0.         0.62754252\n",
      "  0.         0.         0.         0.46084788 0.         0.\n",
      "  0.         0.         0.         0.         0.         0.\n",
      "  0.62754252 0.         0.         0.         0.         0.\n",
      "  0.         0.         0.         0.         0.         0.        ]]\n"
     ]
    }
   ],
   "source": [
    "vectorizer = TfidfVectorizer()\n",
    "corpus = [item['question'] for item in training_data]\n",
    "tfidf_matrix = vectorizer.fit_transform(corpus)\n",
    "print(tfidf_matrix.toarray())"
   ]
  },
  {
   "cell_type": "code",
   "execution_count": 25,
   "metadata": {},
   "outputs": [
    {
     "name": "stdout",
     "output_type": "stream",
     "text": [
      "Чат-бот: {'question': 'О чём ты любишь говорить?', 'answer': 'Обо всём!'}\n",
      "Чат-бот: {'question': 'Как дела?', 'answer': 'Всё хорошо, спасибо!'}\n",
      "Чат-бот: {'question': 'Как дела?', 'answer': 'Всё хорошо, спасибо!'}\n",
      "Чат-бот: {'question': 'Как дела?', 'answer': 'Всё хорошо, спасибо!'}\n",
      "Чат-бот: До свидания!\n"
     ]
    }
   ],
   "source": [
    "def get_response(user_question):\n",
    "    user_tfidf = vectorizer.transform([user_question])\n",
    "    similarity_scores = cosine_similarity(user_tfidf, tfidf_matrix) \n",
    "    max_similarity_index = np.argmax(similarity_scores)\n",
    "    return training_data[max_similarity_index + 1]\n",
    "\n",
    "while True:\n",
    "    user_question = input(\"Пользователь: \")\n",
    "    if user_question.lower() in ['stop', 'exit', 'quit']:\n",
    "        print(\"Чат-бот: До свидания!\")\n",
    "        break\n",
    "    response = get_response(user_question)\n",
    "    print(\"Чат-бот:\", response)"
   ]
  }
 ],
 "metadata": {
  "kernelspec": {
   "display_name": "Python 3",
   "language": "python",
   "name": "python3"
  },
  "language_info": {
   "codemirror_mode": {
    "name": "ipython",
    "version": 3
   },
   "file_extension": ".py",
   "mimetype": "text/x-python",
   "name": "python",
   "nbconvert_exporter": "python",
   "pygments_lexer": "ipython3",
   "version": "3.11.3"
  }
 },
 "nbformat": 4,
 "nbformat_minor": 2
}
