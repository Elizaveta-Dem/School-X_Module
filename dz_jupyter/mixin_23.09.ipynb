{
 "cells": [
  {
   "cell_type": "code",
   "execution_count": 1,
   "id": "85cdef01-9377-480c-8a68-3a31534b2752",
   "metadata": {},
   "outputs": [],
   "source": [
    "class MixinNameable:\n",
    "    def __init__(self, name) -> None:\n",
    "        self.name = name\n",
    "\n",
    "class MixinJumpable:\n",
    "    def jump(self):\n",
    "        print(self.name + \" прыгает\")\n",
    "    def none_jump(self):\n",
    "        print(self.name + \" не может прыгнуть, жирный\")\n",
    "\n",
    "class MixinTalkble:\n",
    "    def talk(self, line):\n",
    "        print(self.name + \" что-то бубнит: \" + line)\n",
    "\n",
    "class MixinPosable:\n",
    "    def change_pose(self):\n",
    "        print(self.name + \" сменил позу\")\n",
    "\n",
    "class MixinFallable:\n",
    "    def fall(self):\n",
    "        print(self.name + \" упал\")\n",
    "\n",
    "class MixinBecomeDustly:\n",
    "    def dustly(self):\n",
    "        print(self.name + \" пылится\")"
   ]
  },
  {
   "cell_type": "code",
   "execution_count": 2,
   "id": "bc2ba0b8-9584-434e-99d5-55a9c3e337f1",
   "metadata": {},
   "outputs": [],
   "source": [
    "class MixinFunkoPop(MixinNameable, MixinBecomeDustly, MixinPosable, MixinFallable):\n",
    "    def __init__(self, name) -> None:\n",
    "        super().__init__(name)\n",
    "\n",
    "class MixinPlayable(MixinNameable, MixinJumpable, MixinPosable, MixinFallable, MixinTalkble):\n",
    "    def __init__(self, name) -> None:\n",
    "        super().__init__(name)"
   ]
  },
  {
   "cell_type": "code",
   "execution_count": 3,
   "id": "fe762565-3df6-4764-b779-5cd634e5fd67",
   "metadata": {},
   "outputs": [],
   "source": [
    "class Character:\n",
    "    def charcter_def(self):\n",
    "        print(self.name + \" появился\")\n",
    "\n",
    "class HarryPotter(Character):\n",
    "    def harry_potter(self):\n",
    "        print(self.name + \" появился\")\n",
    "\n",
    "class Hagrid(Character):\n",
    "    def hagrid_character(self):\n",
    "        print(self.name + \" появился\")\n",
    "\n",
    "class Shrek(Character):\n",
    "    def shrek_character(self):\n",
    "        print(self.name + \" появился\")   "
   ]
  },
  {
   "cell_type": "code",
   "execution_count": 4,
   "id": "f5fe5ed0-fdb3-43c4-b6f9-c5716409fb9f",
   "metadata": {},
   "outputs": [],
   "source": [
    "class FunkoPopHarryPotter(HarryPotter, MixinFunkoPop):\n",
    "    def __init__(self, name) -> None:\n",
    "        super().__init__(name)\n",
    "\n",
    "class PlaybleHarryPotter(HarryPotter, MixinPlayable):\n",
    "    def __init__(self, name) -> None:\n",
    "        super().__init__(name)\n",
    "\n",
    "class FunkoPopHagrid(Hagrid, MixinFunkoPop):\n",
    "    def __init__(self, name) -> None:\n",
    "        super().__init__(name)\n",
    "\n",
    "class PlaybleHagrid(Hagrid, MixinPlayable):\n",
    "    def __init__(self, name) -> None:\n",
    "        super().__init__(name)\n",
    "\n",
    "class FunkoPopShrek(Shrek, MixinFunkoPop):\n",
    "    def __init__(self, name) -> None:\n",
    "        super().__init__(name)\n",
    "\n",
    "class PlaybleShrek(Shrek, MixinPlayable):\n",
    "    def __init__(self, name) -> None:\n",
    "        super().__init__(name)"
   ]
  },
  {
   "cell_type": "code",
   "execution_count": 5,
   "id": "e2dbac64-9480-4c12-83fc-d8382265518a",
   "metadata": {},
   "outputs": [
    {
     "name": "stdout",
     "output_type": "stream",
     "text": [
      "Гарри Поттер появился\n",
      "Гарри Поттер прыгает\n",
      "Гарри Поттер упал\n",
      "Хагрид появился\n",
      "Хагрид не может прыгнуть, жирный\n",
      "Хагрид что-то бубнит: булочки вкусные были\n",
      "Шрек появился\n",
      "Шрек что-то бубнит: Вали с моего болота\n",
      "Шрек сменил позу\n"
     ]
    }
   ],
   "source": [
    "harrypotter_play = FunkoPopHarryPotter(\"Гарри Поттер\")\n",
    "harrypotter_play.harry_potter()\n",
    "harrypotter_play = PlaybleHarryPotter(\"Гарри Поттер\")\n",
    "harrypotter_play.jump()\n",
    "harrypotter_play.fall()\n",
    "\n",
    "hagrid_play = FunkoPopHagrid(\"Хагрид\")\n",
    "hagrid_play.hagrid_character()\n",
    "hagrid_play = PlaybleHagrid(\"Хагрид\")\n",
    "hagrid_play.none_jump()\n",
    "hagrid_play.talk(\"булочки вкусные были\")\n",
    "\n",
    "shrek_play = FunkoPopShrek(\"Шрек\")\n",
    "shrek_play.shrek_character()\n",
    "shrek_play = PlaybleShrek(\"Шрек\")\n",
    "shrek_play.talk(\"Вали с моего болота\")\n",
    "shrek_play.change_pose()"
   ]
  },
  {
   "cell_type": "code",
   "execution_count": null,
   "id": "2ff86b04-83a4-461f-bf92-21d72d9a8fce",
   "metadata": {},
   "outputs": [],
   "source": []
  }
 ],
 "metadata": {
  "kernelspec": {
   "display_name": "Python 3 (ipykernel)",
   "language": "python",
   "name": "python3"
  },
  "language_info": {
   "codemirror_mode": {
    "name": "ipython",
    "version": 3
   },
   "file_extension": ".py",
   "mimetype": "text/x-python",
   "name": "python",
   "nbconvert_exporter": "python",
   "pygments_lexer": "ipython3",
   "version": "3.11.3"
  }
 },
 "nbformat": 4,
 "nbformat_minor": 5
}
