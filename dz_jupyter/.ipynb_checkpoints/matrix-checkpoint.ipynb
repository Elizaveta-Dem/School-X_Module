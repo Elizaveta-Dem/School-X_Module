{
 "cells": [
  {
   "cell_type": "code",
   "execution_count": 6,
   "id": "19bb9470-26c2-4038-b770-4c76ca70b1b6",
   "metadata": {},
   "outputs": [
    {
     "name": "stdout",
     "output_type": "stream",
     "text": [
      "Note: you may need to restart the kernel to use updated packages.\n"
     ]
    },
    {
     "name": "stderr",
     "output_type": "stream",
     "text": [
      "\n",
      "[notice] A new release of pip available: 22.3.1 -> 23.2.1\n",
      "[notice] To update, run: python.exe -m pip install --upgrade pip\n"
     ]
    }
   ],
   "source": [
    "%pip install -Uq numpy"
   ]
  },
  {
   "cell_type": "code",
   "execution_count": 7,
   "id": "97897ad2-abd0-4f2a-bbc0-b3d1f0c32d49",
   "metadata": {},
   "outputs": [
    {
     "data": {
      "text/plain": [
       "numpy.matrix"
      ]
     },
     "execution_count": 7,
     "metadata": {},
     "output_type": "execute_result"
    }
   ],
   "source": [
    "import numpy as np\n",
    "np.matrix "
   ]
  },
  {
   "cell_type": "code",
   "execution_count": 15,
   "id": "32874ddf-996f-42e4-8537-5ba9e53dc0a7",
   "metadata": {},
   "outputs": [],
   "source": [
    "class Matrix:\n",
    "    def __init__(self, matrix):\n",
    "        self.matrix = matrix\n",
    "\n",
    "    def __len__(self):\n",
    "        return len(self.matrix)\n",
    "\n",
    "    def dimensions(self):\n",
    "        rows = len(self.matrix)\n",
    "        columns = len(self.matrix[0]) if rows > 0 else 0\n",
    "        return rows, columns\n",
    "\n",
    "    @staticmethod\n",
    "    def is_dimensions(matrix1, other_matrix):\n",
    "        return len(matrix1.matrix) == len(other_matrix.matrix) and len(matrix1.matrix[0]) == len(other_matrix.matrix[0])\n",
    "\n",
    "    def __add__(self, other_matrix):\n",
    "        new_matrix = []\n",
    "        if isinstance(other_matrix, int) or isinstance(other_matrix, float):\n",
    "            for row in self.matrix:\n",
    "                new_matrix.append([])\n",
    "                for col in row:\n",
    "                    new_matrix[-1].append(col + other_matrix)\n",
    "        else:\n",
    "            for row in zip(self.matrix, other_matrix.matrix):\n",
    "                new_matrix.append([])\n",
    "                for i in range(len(row[0])):\n",
    "                    new_matrix[-1].append(row[0][i] + row[1][i])\n",
    "        return Matrix(new_matrix)\n",
    "\n",
    "    def T(self):\n",
    "        rows = len(self)\n",
    "        columns = len(self.matrix[0]) if rows > 0 else 0\n",
    "\n",
    "        transposed = []\n",
    "        for j in range(columns):\n",
    "            row = []\n",
    "            for i in range(rows):\n",
    "                row.append(self.matrix[i][j])\n",
    "            transposed.append(row)\n",
    "\n",
    "        return Matrix(transposed)\n",
    "\n",
    "    def __eq__(self, other_matrix):\n",
    "        return self.is_dimensions(self, other_matrix) and all(\n",
    "            self.matrix[i][j] == other_matrix.matrix[i][j]\n",
    "            for i in range(len(self))\n",
    "            for j in range(len(self.matrix[i]))\n",
    "        )\n",
    "\n",
    "    def __repr__(self):\n",
    "        return repr(self.matrix)\n",
    "\n",
    "    def __sub__(self, other):\n",
    "        new_matrix = []\n",
    "        if isinstance(other, int) or isinstance(other, float):\n",
    "            for row in self.matrix:\n",
    "                new_matrix.append([])\n",
    "                for col in row:\n",
    "                    new_matrix[-1].append(col-other)\n",
    "        else:\n",
    "            if not self.is_dimensions(self, other):\n",
    "                raise ValueError(\"Матрицы не одинаковой размерности\")\n",
    "            for row in zip(self.matrix, other.matrix):\n",
    "                new_matrix.append([])\n",
    "                for i in range(len(row[0])):\n",
    "                    new_matrix[-1].append(row[0][i]-row[1][i])\n",
    "        return Matrix(new_matrix)\n",
    "\n",
    "\n",
    "    def __mul__(self, other_matrix):\n",
    "        \n",
    "        result = []\n",
    "        if isinstance(other_matrix, int) or isinstance(other_matrix, float):\n",
    "            for i in self.matrix:\n",
    "                result.append([])\n",
    "                for j in i:\n",
    "                    result[-1].append(j*other_matrix)\n",
    "\n",
    "        else:\n",
    "            rows, columns = self.dimensions()\n",
    "            other_rows, other_columns = other_matrix.dimensions()\n",
    "            if columns != other_rows:\n",
    "                raise ValueError(\"Матрицы не одинаковой размерности\")\n",
    "            if not self.is_dimensions(self, other_matrix):\n",
    "                raise ValueError(\"Матрицы не одинаковой размерности\")\n",
    "            for row in zip(self.matrix, other_matrix.matrix):\n",
    "                result.append([])\n",
    "                for i in range(len(row[0])):\n",
    "                    result[-1].append(row[0][i]*row[1][i])\n",
    "\n",
    "        return Matrix(result)\n",
    "\n",
    "    def __truediv__(self, other_matrix):\n",
    "        result = []\n",
    "        if isinstance(other_matrix, int) or isinstance(other_matrix, float):\n",
    "            for row in self.matrix:\n",
    "                result.append([])\n",
    "                for col in row:\n",
    "                    result[-1].append(col/other_matrix)\n",
    "        else:\n",
    "            if not self.is_dimensions(self, other_matrix):\n",
    "                raise ValueError(\"Матрицы не одинаковой размерности\")\n",
    "\n",
    "            result = [\n",
    "                [self.matrix[i][j] / other_matrix.matrix[i][j] for j in range(len(self.matrix[i]))]\n",
    "                for i in range(len(self.matrix))\n",
    "            ]\n",
    "\n",
    "        return Matrix(result)\n",
    "\n",
    "    def __matmul__(self, other_matrix):\n",
    "        if len(self.matrix[0]) != len(other_matrix.matrix):\n",
    "            raise ValueError(\"Матрицы не одинаковой размерности\")\n",
    "\n",
    "        result = [[sum(self.matrix[i][k] * other_matrix.matrix[k][j] for k in range(len(self.matrix[0])))\n",
    "                   for j in range(len(other_matrix.matrix[0]))]\n",
    "                  for i in range(len(self.matrix))]\n",
    "\n",
    "        return Matrix(result)"
   ]
  },
  {
   "cell_type": "code",
   "execution_count": 16,
   "id": "8996e96a-c6e5-4ea1-8db6-49afe2e83141",
   "metadata": {},
   "outputs": [
    {
     "name": "stdout",
     "output_type": "stream",
     "text": [
      "Note: you may need to restart the kernel to use updated packages.\n"
     ]
    },
    {
     "name": "stderr",
     "output_type": "stream",
     "text": [
      "\n",
      "[notice] A new release of pip available: 22.3.1 -> 23.2.1\n",
      "[notice] To update, run: python.exe -m pip install --upgrade pip\n"
     ]
    }
   ],
   "source": [
    "%pip install -q ipytest pytest\n",
    "\n",
    "import ipytest\n",
    "import pytest\n",
    "ipytest.autoconfig()"
   ]
  },
  {
   "cell_type": "code",
   "execution_count": 17,
   "id": "4851ac39-47b3-4116-acba-5211987339c2",
   "metadata": {},
   "outputs": [
    {
     "name": "stdout",
     "output_type": "stream",
     "text": [
      "[[12, 5, 12], [3, 10, 18], [16, 10, 6]]\n",
      "[[12  5 12]\n",
      " [ 3 10 18]\n",
      " [16 10  6]]\n",
      "\u001b[32m.\u001b[0m\u001b[32m.\u001b[0m\u001b[32m.\u001b[0m\u001b[32m.\u001b[0m\u001b[32m.\u001b[0m\u001b[32m.\u001b[0m\u001b[32m.\u001b[0m\u001b[32m.\u001b[0m\u001b[32m.\u001b[0m\u001b[32m.\u001b[0m\u001b[32m                                                                                   [100%]\u001b[0m\n",
      "\u001b[32m\u001b[32m\u001b[1m10 passed\u001b[0m\u001b[32m in 0.09s\u001b[0m\u001b[0m\n"
     ]
    }
   ],
   "source": [
    "%%ipytest\n",
    "import numpy as np\n",
    "\n",
    "matrix1 = Matrix([[3, 1, 2],[1, 2, 3],[4, 2, 1]])\n",
    "matrix2 = Matrix([[4, 5, 6],[3, 5, 6],[4, 5, 6]])\n",
    "\n",
    "@pytest.mark.parametrize(\"matrix1,matrix2\", [[matrix1, matrix2]])\n",
    "def test_matrix_add_matrix(matrix1: Matrix, matrix2: Matrix):\n",
    "    assert (\n",
    "        (np.array((matrix1 + matrix2).matrix) == (np.array(matrix1.matrix) + np.array(matrix2.matrix))).all()\n",
    "    ), 'add section with matrices is not working right'\n",
    "\n",
    "@pytest.mark.parametrize(\"matrix1,number\", [[matrix1, 13.2]])\n",
    "def test_matrix_add_number(matrix1: Matrix, number: int | float):\n",
    "    assert (\n",
    "        (np.array((matrix1 + number).matrix) == np.array(matrix1.matrix) + number).all()\n",
    "    ), 'add section with matrix and number is not working right'\n",
    "\n",
    "@pytest.mark.parametrize(\"matrix1,matrix2\", [[matrix1, matrix2]])\n",
    "def test_matrix_sub_matrix(matrix1: Matrix, matrix2: Matrix):\n",
    "    assert (\n",
    "        (np.array((matrix1 - matrix2).matrix) == np.array(matrix1.matrix) - np.array(matrix2.matrix)).all()\n",
    "    ), 'sub section with matrices is not working right'\n",
    "\n",
    "@pytest.mark.parametrize(\"matrix1,number\", [[matrix1, 12.2]])    \n",
    "def test_matrix_sub_number(matrix1: Matrix, number: int | float):\n",
    "    assert (\n",
    "        (np.array((matrix1 - number).matrix) == np.array(matrix1.matrix) - number).all()\n",
    "    ), 'sub section with matrix and number is not working right'\n",
    "\n",
    "@pytest.mark.parametrize(\"matrix1\", [matrix1])    \n",
    "def test_matrix_transpose(matrix1: Matrix):\n",
    "    assert (\n",
    "        (np.array(matrix1.T().matrix) == np.array(matrix1.matrix).T).all()\n",
    "    ), 'transpose section is not working right'\n",
    "    \n",
    "# -----------------------------------------\n",
    "\n",
    "@pytest.mark.parametrize(\"matrix1,matrix2\", [[matrix1, matrix2]])\n",
    "def test_matrix_mul_matrix(matrix1: Matrix, matrix2: Matrix):\n",
    "    assert (\n",
    "        (np.array((matrix1 * matrix2).matrix) == np.array(matrix1.matrix) * np.array(matrix2.matrix)).all()\n",
    "    ), 'mul section with matrices is not working right'\n",
    "\n",
    "@pytest.mark.parametrize(\"matrix1,number\", [[matrix1, 13]])\n",
    "def test_matrix_mul_number(matrix1: Matrix, number: int | float):\n",
    "    assert (\n",
    "        (np.array((matrix1 * number).matrix) == np.array(matrix1.matrix) * number).all()\n",
    "    ), 'mul section with matrix and number is not working right'\n",
    "\n",
    "@pytest.mark.parametrize(\"matrix1,matrix2\", [[matrix1, matrix2]])    \n",
    "def test_matrix_div_matrix(matrix1: Matrix, matrix2: Matrix):\n",
    "    assert (\n",
    "        (np.array((matrix1 / matrix2).matrix) == np.array(matrix1.matrix) / np.array(matrix2.matrix)).all()\n",
    "    ), 'div section with matrices is not working right'\n",
    "\n",
    "@pytest.mark.parametrize(\"matrix1,number\", [[matrix1, 2]])    \n",
    "def test_matrix_div_number(matrix1: Matrix, number: int | float):\n",
    "    assert (\n",
    "        (np.array((matrix1 / number).matrix) == np.array(matrix1.matrix) / number).all()\n",
    "    ), 'div section with matrix and number is not working right'\n",
    "\n",
    "@pytest.mark.parametrize(\"matrix1,matrix2\", [[matrix1, matrix2.T()]])    \n",
    "def test_matrix_matmul_matrix(matrix1: Matrix, matrix2: Matrix):\n",
    "    assert(\n",
    "        (np.array((matrix1 @ matrix2).matrix) == np.array(matrix1.matrix) @ np.array(matrix2.matrix)).all()\n",
    "    ), 'matmul section is not working right, and don\\'t forget about T() if needed'\n",
    "\n",
    "print((matrix1*matrix2).matrix)\n",
    "print(np.array(matrix1.matrix) * np.array(matrix2.matrix))\n"
   ]
  },
  {
   "cell_type": "code",
   "execution_count": null,
   "id": "c28f5400-4425-4620-b310-b742c2cfd00f",
   "metadata": {},
   "outputs": [],
   "source": []
  }
 ],
 "metadata": {
  "kernelspec": {
   "display_name": "Python 3 (ipykernel)",
   "language": "python",
   "name": "python3"
  },
  "language_info": {
   "codemirror_mode": {
    "name": "ipython",
    "version": 3
   },
   "file_extension": ".py",
   "mimetype": "text/x-python",
   "name": "python",
   "nbconvert_exporter": "python",
   "pygments_lexer": "ipython3",
   "version": "3.11.3"
  }
 },
 "nbformat": 4,
 "nbformat_minor": 5
}
