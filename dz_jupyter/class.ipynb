{
 "cells": [
  {
   "cell_type": "code",
   "execution_count": 133,
   "id": "8c6dc803-a723-4c81-918c-ceb25179013a",
   "metadata": {},
   "outputs": [],
   "source": [
    "class Character:\n",
    "    def __init__(self, name, health, damage):\n",
    "        self.name = name\n",
    "        self.health = health\n",
    "        self.damage = damage\n",
    "        \n",
    "    def talk(self, line):\n",
    "        print(self.name + \"говорит: \" + line)\n",
    "\n",
    "    def take_damage(self, amount):\n",
    "        self.health -= amount \n",
    "\n",
    "    def attack(self, player):\n",
    "        player.take_damage(self.damage)\n",
    "        \n",
    "    "
   ]
  },
  {
   "cell_type": "code",
   "execution_count": 134,
   "id": "c6774cf1-b127-46e9-88ee-c0866fb54a28",
   "metadata": {},
   "outputs": [],
   "source": [
    "class Hero(Character):\n",
    "    def cure(self, player, amount):\n",
    "        player.health += amount\n",
    "\n",
    "class BadHero(Character):\n",
    "    def __init__(self, name, health, damage, intellect):\n",
    "        super().__init__(name, health, damage)\n",
    "        self.intellect = intellect\n",
    "\n",
    "    def magic_attack(self, player):\n",
    "        player.health -= self.intellect"
   ]
  },
  {
   "cell_type": "code",
   "execution_count": 138,
   "id": "7a5480fa-8d10-45db-93fb-62eed3c487ff",
   "metadata": {},
   "outputs": [],
   "source": [
    "class Wizard(Hero):\n",
    "    def emergance(self):\n",
    "        print(f\"{self.name} появился\")\n",
    "\n",
    "class Orc(BadHero):\n",
    "    def blow_bat(self, player):\n",
    "        player.health -= self.intellect*2"
   ]
  },
  {
   "cell_type": "code",
   "execution_count": 143,
   "id": "095bc585-5207-4f68-91ac-92443cb598cb",
   "metadata": {},
   "outputs": [
    {
     "name": "stdout",
     "output_type": "stream",
     "text": [
      "Том говорит: Привет!\n",
      "Герда говорит: Ну здарова...\n",
      "50 - Герда напала на Тома\n",
      "35 - здоровье Тома все меньше\n",
      "Волшебник  появился\n",
      "140 - Волшебника ударил Шрек\n",
      "Волшебник говорит: Я выживу\n"
     ]
    }
   ],
   "source": [
    "good1 = Hero(\"Том \", 100, 25)\n",
    "bad1 = BadHero(\"Герда \", 100, 15, 50)\n",
    "good2 = Wizard(\"Волшебник \", 200, 50)\n",
    "bad2 = Orc(\"Шрек\", 170, 15,30)\n",
    "\n",
    "good1.talk(\"Привет!\")\n",
    "bad1.talk(\"Ну здарова...\")\n",
    "bad1.magic_attack(good1)\n",
    "print(good1.health, \"- Герда напала на Тома\")\n",
    "bad1.attack(good1)\n",
    "print(good1.health, \"- здоровье Тома все меньше\")\n",
    "\n",
    "bad2.blow_bat(good2)\n",
    "good2.emergance()\n",
    "print(good2.health, \"- Волшебника ударил Шрек\")\n",
    "good2.talk(\"Я выживу\")"
   ]
  }
 ],
 "metadata": {
  "kernelspec": {
   "display_name": "Python 3 (ipykernel)",
   "language": "python",
   "name": "python3"
  },
  "language_info": {
   "codemirror_mode": {
    "name": "ipython",
    "version": 3
   },
   "file_extension": ".py",
   "mimetype": "text/x-python",
   "name": "python",
   "nbconvert_exporter": "python",
   "pygments_lexer": "ipython3",
   "version": "3.11.3"
  }
 },
 "nbformat": 4,
 "nbformat_minor": 5
}
