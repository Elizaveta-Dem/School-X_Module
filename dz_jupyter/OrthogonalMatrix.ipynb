{
 "cells": [
  {
   "cell_type": "code",
   "execution_count": 1,
   "metadata": {},
   "outputs": [],
   "source": [
    "import math \n",
    " \n",
    "class Matrix: \n",
    "    def __init__(self, rows): \n",
    "        self.rows = rows \n",
    " \n",
    "#Умножение вектора на скаляр, каждый компонент вектора умножается на число \n",
    "    def __mul__(self, vector, scalar): \n",
    "        return [scalar * x for x in vector] #возвращаетновый вектор, где длина та же, но компоненты умножены на скаляр \n",
    " \n",
    " \n",
    "#Скалярное произведение двух векторов, где vector1, vector2 явл. исходными \n",
    "    def __matmul__(self, vector1, vector2) -> int|float: \n",
    "        result = 0 \n",
    "        for i in range(len(vector1)): \n",
    "            result += vector1[i] * vector2[i] \n",
    "        return result \n",
    "     \n",
    " \n",
    "#определение функции, которая вычитает два входных  вектора vector1, vector2, про которые я писала выше \n",
    "    def __sub__(self, vector1, vector2): \n",
    "        if len(vector1) != len(vector2): \n",
    "            raise ValueError('Векторы должны иметь одинаковое количество компонентов (размерность)!') \n",
    "#результат вычитания буду хранить здесь: \n",
    "        result = [] \n",
    "        for i in range(len(vector1)): #цикл перебирает индексы элементов от 0 до len(vector1) -1, чтобы выполнить вычитание \n",
    "            result.append(vector1[i] - vector2[i])      \n",
    "        return(result) \n",
    " \n",
    "    def gram_schmidt(self): \n",
    "#Создание пустого списка, который будет содержать ортогональный базис векторов \n",
    "        basis = [] \n",
    "        for i in range(len(self.rows)): \n",
    "            #выбор очередного вектора \n",
    "            vector = self.rows[i] \n",
    "            for j in range(len(basis)): \n",
    "                #Проекция 'projection' = Нр(Vp+1) линейной комбинации f1,f2,f3,f4 по алгоритму \n",
    "                #Эта проекция вычисляется как произведение скалярного произведения __matmul__(vector1, basis[i]); basis[i] это f1 допустим \n",
    "                #Дальше деление на скалярное произведение базисов \n",
    "                projection = self.__mul__(basis[j], self.__matmul__(vector, basis[j]) / self.__matmul__(basis[j], basis[j])) \n",
    "                #вычитание projection из vector, чтобы убрать проекцию на уже добавленные векторы в список \n",
    "                #что и есть ортогонлизация вектора относительно векторов, которые уже есть \n",
    "                vector = self.__sub__(vector, projection) \n",
    "            #Проверка на то, не стал ли вектор нулевым в результате проекции и вычитаний ( такого типа (0,0,0)) \n",
    "            #если нет, то он добавляется в базис \n",
    "            if any(vector): \n",
    "                basis.append(vector) \n",
    "#Нормализация базиса,чтобы получить ортогональные вектора единичной длины, поэтому vector, 1 \n",
    "        norm_basis = [self.__mul__(vector, 1 / math.sqrt(self.__matmul__(vector, vector))) for vector in basis] \n",
    "        return norm_basis \n",
    " \n",
    "    # basis_vectors = self.gram_schmidt() \n",
    "     \n",
    "    # print(basis_vectors) \n",
    " \n",
    "    def print_basis(self): \n",
    "        basis_vectors = self.gram_schmidt() \n",
    "        #Функция enumerate возвращает индекс [i] и значение элемента (типа f1,f2 ...) \n",
    "        for i, vector in enumerate(basis_vectors): \n",
    "            print(f\"f{i+1} = {vector}\")"
   ]
  },
  {
   "cell_type": "code",
   "execution_count": 2,
   "metadata": {},
   "outputs": [
    {
     "name": "stdout",
     "output_type": "stream",
     "text": [
      "f1 = [0.5773502691896258, 0.5773502691896258, 0.0, 0.5773502691896258]\n",
      "f2 = [0.5163977794943223, -0.2581988897471611, 0.7745966692414834, -0.2581988897471611]\n",
      "f3 = [-0.50709255283711, 0.6761234037828132, 0.5070925528371099, -0.16903085094570328]\n",
      "f4 = [-0.37796447300922714, -0.3779644730092271, 0.37796447300922725, 0.7559289460184543]\n"
     ]
    }
   ],
   "source": [
    "# Пример  \n",
    "matrix = Matrix([[1, 1, 0, 1], \n",
    "                [1, 0, 1, 0], \n",
    "                [0, 1, 1, 0], \n",
    "                [0, 0, 1, 1]]) \n",
    " \n",
    "matrix.print_basis()"
   ]
  }
 ],
 "metadata": {
  "kernelspec": {
   "display_name": "Python 3",
   "language": "python",
   "name": "python3"
  },
  "language_info": {
   "codemirror_mode": {
    "name": "ipython",
    "version": 3
   },
   "file_extension": ".py",
   "mimetype": "text/x-python",
   "name": "python",
   "nbconvert_exporter": "python",
   "pygments_lexer": "ipython3",
   "version": "3.11.3"
  },
  "orig_nbformat": 4
 },
 "nbformat": 4,
 "nbformat_minor": 2
}
