{
 "cells": [
  {
   "cell_type": "code",
   "execution_count": null,
   "id": "f20593bc-32b9-4eac-94d6-1c2cff36fdfb",
   "metadata": {},
   "outputs": [],
   "source": [
    "import random as rng\n",
    "class Hero:\n",
    "    def _init_(\n",
    "        self,\n",
    "        health = 100,\n",
    "        speed = 10,\n",
    "        damage = 2,\n",
    "        iq = 80        \n",
    "    ):\n",
    "        self.health = health\n",
    "        self.speed = speed\n",
    "        self.damage = damage\n",
    "\n",
    "    \n",
    "    def trade(self):\n",
    "        print(\"Я иду торговаться\")\n",
    "    def think(self):\n",
    "        print(\"Я  думаю\")"
   ]
  }
 ],
 "metadata": {
  "kernelspec": {
   "display_name": "Python 3 (ipykernel)",
   "language": "python",
   "name": "python3"
  },
  "language_info": {
   "codemirror_mode": {
    "name": "ipython",
    "version": 3
   },
   "file_extension": ".py",
   "mimetype": "text/x-python",
   "name": "python",
   "nbconvert_exporter": "python",
   "pygments_lexer": "ipython3",
   "version": "3.11.3"
  }
 },
 "nbformat": 4,
 "nbformat_minor": 5
}
