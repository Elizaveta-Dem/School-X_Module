{
 "cells": [
  {
   "cell_type": "code",
   "execution_count": 1,
   "metadata": {},
   "outputs": [],
   "source": [
    "import numpy as np\n",
    "import pandas as pd"
   ]
  },
  {
   "cell_type": "code",
   "execution_count": 2,
   "metadata": {},
   "outputs": [],
   "source": [
    "data = pd.read_csv(\"insurance.csv\")"
   ]
  },
  {
   "cell_type": "code",
   "execution_count": 3,
   "metadata": {},
   "outputs": [],
   "source": [
    "data = pd.get_dummies(data, columns=[\"sex\", \"region\", \"smoker\"], drop_first=True)"
   ]
  },
  {
   "cell_type": "code",
   "execution_count": 11,
   "metadata": {},
   "outputs": [],
   "source": [
    "num = [\"age\", \"children\", \"bmi\"]\n",
    "data[num] = (data[num] - data[num].mean()) / data[num].std()"
   ]
  },
  {
   "cell_type": "code",
   "execution_count": 5,
   "metadata": {},
   "outputs": [],
   "source": [
    "train_size = int(0.8 * len(data))\n",
    "train_data = data[:train_size]\n",
    "test_data = data[train_size:]"
   ]
  },
  {
   "cell_type": "code",
   "execution_count": 6,
   "metadata": {},
   "outputs": [],
   "source": [
    "X_train = train_data.drop(\"charges\", axis=1).values\n",
    "y_train = train_data[\"charges\"].values\n",
    "X_test = test_data.drop(\"charges\", axis=1).values\n",
    "y_test = test_data[\"charges\"].values"
   ]
  },
  {
   "cell_type": "code",
   "execution_count": 7,
   "metadata": {},
   "outputs": [],
   "source": [
    "X_train = np.column_stack([np.ones(X_train.shape[0]), X_train])\n",
    "X_test = np.column_stack([np.ones(X_test.shape[0]), X_test])"
   ]
  },
  {
   "cell_type": "code",
   "execution_count": 17,
   "metadata": {},
   "outputs": [],
   "source": [
    "def lin_regres(X, theta):\n",
    "    return np.dot(X, theta)\n",
    "def mean_squared_error(y, y_pred):\n",
    "    return np.mean((y - y_pred) ** 2)\n",
    "def gradient(X, y, y_pred):\n",
    "    return np.dot(X.T, y_pred - y) / len(y)\n",
    "def gradient_descent(X, y, theta, learning_speed, num_2):\n",
    "    for i in range(num_2):\n",
    "        y_pred = lin_regres(X, theta)\n",
    "        grad = gradient(X, y, y_pred)\n",
    "        grad = grad.astype(np.float64)  #приведение grad к типу float64\n",
    "        theta -= learning_speed * grad\n",
    "    return theta"
   ]
  },
  {
   "cell_type": "code",
   "execution_count": 18,
   "metadata": {},
   "outputs": [],
   "source": [
    "learning_speed = 0.0001\n",
    "num_2 = 100000\n",
    "theta = np.random.rand(X_train.shape[1])  #инициализация случайными значениями"
   ]
  },
  {
   "cell_type": "code",
   "execution_count": 19,
   "metadata": {},
   "outputs": [],
   "source": [
    "theta = gradient_descent(X_train, y_train, theta, learning_speed, num_2)"
   ]
  },
  {
   "cell_type": "code",
   "execution_count": 20,
   "metadata": {},
   "outputs": [],
   "source": [
    "y_pred_test = lin_regres(X_test, theta)"
   ]
  },
  {
   "cell_type": "code",
   "execution_count": 21,
   "metadata": {},
   "outputs": [
    {
     "name": "stdout",
     "output_type": "stream",
     "text": [
      "Средняя квадратичная ошибка: 42372448.87561129\n"
     ]
    }
   ],
   "source": [
    "mse = mean_squared_error(y_test, y_pred_test)\n",
    "print(\"Средняя квадратичная ошибка:\", mse)"
   ]
  }
 ],
 "metadata": {
  "kernelspec": {
   "display_name": "Python 3",
   "language": "python",
   "name": "python3"
  },
  "language_info": {
   "codemirror_mode": {
    "name": "ipython",
    "version": 3
   },
   "file_extension": ".py",
   "mimetype": "text/x-python",
   "name": "python",
   "nbconvert_exporter": "python",
   "pygments_lexer": "ipython3",
   "version": "3.11.3"
  }
 },
 "nbformat": 4,
 "nbformat_minor": 2
}
