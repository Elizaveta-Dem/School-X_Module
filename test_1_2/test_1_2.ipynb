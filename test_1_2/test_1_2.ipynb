{
 "cells": [
  {
   "cell_type": "code",
   "execution_count": 1,
   "metadata": {},
   "outputs": [],
   "source": [
    "from scipy import stats as st"
   ]
  },
  {
   "cell_type": "code",
   "execution_count": 2,
   "metadata": {},
   "outputs": [],
   "source": [
    "time_before = [1732, 1301, 1540, 2247, 1632, 1550, 754, 1946, 1889,\n",
    "               2748, 1349, 1648, 1665, 2416, 1470, 1681, 1868, 1629,\n",
    "               1271, 1633, 2131, 942, 1599, 1127, 2200, 661, 1207,\n",
    "               1737, 2410, 1486]\n",
    "\n",
    "time_after = [955, 2577, 360, 139, 1618, 990, 644, 1796, 1487, 949, 472,\n",
    "              1906, 1758, 1258, 2554, 612, 309, 1864, 1294, 1487, 1164, 1559,\n",
    "              491, 2286, 1270, 2069, 1553, 1629, 1704, 1623]"
   ]
  },
  {
   "cell_type": "markdown",
   "metadata": {},
   "source": [
    "###   После редизайна время использования личного кабинета на сайте изменилось (увеличилось или уменьшилось)?\n",
    "\n",
    "$H_0$: После редизайна время использования личного кабинета на сайте равно времени до редизайна <br>\n",
    "$H_1$: После редизайна время использования личного кабинета на сайте не равно времени до редизайна"
   ]
  },
  {
   "cell_type": "code",
   "execution_count": 7,
   "metadata": {},
   "outputs": [
    {
     "name": "stdout",
     "output_type": "stream",
     "text": [
      "p-value: 0.0751397944405015\n",
      "Нет оснований отвергнуть нулевую гипотезу\n"
     ]
    }
   ],
   "source": [
    "alpha = 0.05\n",
    "results = st.ttest_rel(time_before, time_after)\n",
    "print (f'p-value: {results.pvalue}') \n",
    " \n",
    "if results.pvalue < alpha: \n",
    "    print(\"Есть основания отвергунть нулевую гипотезу\") \n",
    "else: \n",
    "    print(\"Нет оснований отвергнуть нулевую гипотезу\")"
   ]
  },
  {
   "cell_type": "markdown",
   "metadata": {},
   "source": [
    "###   После редизайна время использования личного кабинета на сайте изменилось (увеличилось или уменьшилось)?\n",
    "\n",
    "$H_0$: После внесения изменений в игру количество используемых патронов равно количеству до изменений <br>\n",
    "$H_1$: После внесения изменений в игру количество используемых патронов не равно количеству до изменений"
   ]
  },
  {
   "cell_type": "code",
   "execution_count": 8,
   "metadata": {},
   "outputs": [],
   "source": [
    "bullets_before = [821, 1164, 598, 854, 455, 1220, 161, 1400, 479, 215,\n",
    "                  564, 159, 920, 173, 276, 444, 273, 711, 291, 880,\n",
    "                  892, 712, 16, 476, 498, 9, 1251, 938, 389, 513]\n",
    "\n",
    "bullets_after = [904, 220, 676, 459, 299, 659, 1698, 1120, 514, 1086, 1499,\n",
    "                 1262, 829, 476, 1149, 996, 1247, 1117, 1324, 532, 1458, 898,\n",
    "                 1837, 455, 1667, 898, 474, 558, 639, 1012]"
   ]
  },
  {
   "cell_type": "code",
   "execution_count": 10,
   "metadata": {},
   "outputs": [
    {
     "name": "stdout",
     "output_type": "stream",
     "text": [
      "p-value: 0.0020672694038782998\n",
      "Есть основания отвергунть нулевую гипотезу\n"
     ]
    }
   ],
   "source": [
    "alpha = 0.05\n",
    "results = st.ttest_ind(bullets_before, bullets_after)\n",
    "print (f'p-value: {results.pvalue}') \n",
    " \n",
    "if results.pvalue < alpha: \n",
    "    print(\"Есть основания отвергунть нулевую гипотезу\") \n",
    "else: \n",
    "    print(\"Нет оснований отвергнуть нулевую гипотезу\")"
   ]
  }
 ],
 "metadata": {
  "kernelspec": {
   "display_name": "Python 3",
   "language": "python",
   "name": "python3"
  },
  "language_info": {
   "codemirror_mode": {
    "name": "ipython",
    "version": 3
   },
   "file_extension": ".py",
   "mimetype": "text/x-python",
   "name": "python",
   "nbconvert_exporter": "python",
   "pygments_lexer": "ipython3",
   "version": "3.11.3"
  }
 },
 "nbformat": 4,
 "nbformat_minor": 2
}
